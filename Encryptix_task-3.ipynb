{
 "cells": [
  {
   "cell_type": "code",
   "execution_count": 1,
   "id": "c1d23c74",
   "metadata": {
    "_cell_guid": "b1076dfc-b9ad-4769-8c92-a6c4dae69d19",
    "_uuid": "8f2839f25d086af736a60e9eeb907d3b93b6e0e5",
    "execution": {
     "iopub.execute_input": "2024-06-25T08:38:16.307470Z",
     "iopub.status.busy": "2024-06-25T08:38:16.307204Z",
     "iopub.status.idle": "2024-06-25T08:38:17.187835Z",
     "shell.execute_reply": "2024-06-25T08:38:17.186799Z"
    },
    "papermill": {
     "duration": 0.89031,
     "end_time": "2024-06-25T08:38:17.190048",
     "exception": false,
     "start_time": "2024-06-25T08:38:16.299738",
     "status": "completed"
    },
    "tags": []
   },
   "outputs": [
    {
     "name": "stdout",
     "output_type": "stream",
     "text": [
      "   RowNumber  CustomerId   Surname  CreditScore Geography  Gender  Age  \\\n",
      "0          1    15634602  Hargrave          619    France  Female   42   \n",
      "1          2    15647311      Hill          608     Spain  Female   41   \n",
      "2          3    15619304      Onio          502    France  Female   42   \n",
      "3          4    15701354      Boni          699    France  Female   39   \n",
      "4          5    15737888  Mitchell          850     Spain  Female   43   \n",
      "\n",
      "   Tenure    Balance  NumOfProducts  HasCrCard  IsActiveMember  \\\n",
      "0       2       0.00              1          1               1   \n",
      "1       1   83807.86              1          0               1   \n",
      "2       8  159660.80              3          1               0   \n",
      "3       1       0.00              2          0               0   \n",
      "4       2  125510.82              1          1               1   \n",
      "\n",
      "   EstimatedSalary  Exited  \n",
      "0        101348.88       1  \n",
      "1        112542.58       0  \n",
      "2        113931.57       1  \n",
      "3         93826.63       0  \n",
      "4         79084.10       0  \n"
     ]
    }
   ],
   "source": [
    "import pandas as pd\n",
    "\n",
    "# Path to the CSV file\n",
    "csv_path = '/kaggle/input/bank-customer-churn-prediction/Churn_Modelling.csv'\n",
    "\n",
    "# Read the CSV file\n",
    "df = pd.read_csv(csv_path, encoding='latin-1')\n",
    "\n",
    "# Display the first five rows\n",
    "print(df.head())"
   ]
  },
  {
   "cell_type": "code",
   "execution_count": 2,
   "id": "1e41078a",
   "metadata": {
    "execution": {
     "iopub.execute_input": "2024-06-25T08:38:17.204099Z",
     "iopub.status.busy": "2024-06-25T08:38:17.203304Z",
     "iopub.status.idle": "2024-06-25T08:38:17.219658Z",
     "shell.execute_reply": "2024-06-25T08:38:17.218213Z"
    },
    "papermill": {
     "duration": 0.025463,
     "end_time": "2024-06-25T08:38:17.221660",
     "exception": false,
     "start_time": "2024-06-25T08:38:17.196197",
     "status": "completed"
    },
    "tags": []
   },
   "outputs": [
    {
     "name": "stdout",
     "output_type": "stream",
     "text": [
      "      RowNumber  CustomerId    Surname  CreditScore Geography  Gender  Age  \\\n",
      "0             1    15634602   Hargrave          619    France  Female   42   \n",
      "1             2    15647311       Hill          608     Spain  Female   41   \n",
      "2             3    15619304       Onio          502    France  Female   42   \n",
      "3             4    15701354       Boni          699    France  Female   39   \n",
      "4             5    15737888   Mitchell          850     Spain  Female   43   \n",
      "...         ...         ...        ...          ...       ...     ...  ...   \n",
      "9995       9996    15606229   Obijiaku          771    France    Male   39   \n",
      "9996       9997    15569892  Johnstone          516    France    Male   35   \n",
      "9997       9998    15584532        Liu          709    France  Female   36   \n",
      "9998       9999    15682355  Sabbatini          772   Germany    Male   42   \n",
      "9999      10000    15628319     Walker          792    France  Female   28   \n",
      "\n",
      "      Tenure    Balance  NumOfProducts  HasCrCard  IsActiveMember  \\\n",
      "0          2       0.00              1          1               1   \n",
      "1          1   83807.86              1          0               1   \n",
      "2          8  159660.80              3          1               0   \n",
      "3          1       0.00              2          0               0   \n",
      "4          2  125510.82              1          1               1   \n",
      "...      ...        ...            ...        ...             ...   \n",
      "9995       5       0.00              2          1               0   \n",
      "9996      10   57369.61              1          1               1   \n",
      "9997       7       0.00              1          0               1   \n",
      "9998       3   75075.31              2          1               0   \n",
      "9999       4  130142.79              1          1               0   \n",
      "\n",
      "      EstimatedSalary  Exited  \n",
      "0           101348.88       1  \n",
      "1           112542.58       0  \n",
      "2           113931.57       1  \n",
      "3            93826.63       0  \n",
      "4            79084.10       0  \n",
      "...               ...     ...  \n",
      "9995         96270.64       0  \n",
      "9996        101699.77       0  \n",
      "9997         42085.58       1  \n",
      "9998         92888.52       1  \n",
      "9999         38190.78       0  \n",
      "\n",
      "[10000 rows x 14 columns]\n"
     ]
    }
   ],
   "source": [
    "#print whole dataset...\n",
    "print(df)"
   ]
  },
  {
   "cell_type": "code",
   "execution_count": 3,
   "id": "a3ac03b8",
   "metadata": {
    "execution": {
     "iopub.execute_input": "2024-06-25T08:38:17.234793Z",
     "iopub.status.busy": "2024-06-25T08:38:17.234522Z",
     "iopub.status.idle": "2024-06-25T08:38:17.249754Z",
     "shell.execute_reply": "2024-06-25T08:38:17.248940Z"
    },
    "papermill": {
     "duration": 0.024097,
     "end_time": "2024-06-25T08:38:17.251687",
     "exception": false,
     "start_time": "2024-06-25T08:38:17.227590",
     "status": "completed"
    },
    "tags": []
   },
   "outputs": [
    {
     "data": {
      "text/plain": [
       "Exited\n",
       "0    7963\n",
       "1    2037\n",
       "Name: count, dtype: int64"
      ]
     },
     "execution_count": 3,
     "metadata": {},
     "output_type": "execute_result"
    }
   ],
   "source": [
    "#Count the number of spam and ham msg...\n",
    "df['Exited'].value_counts()"
   ]
  },
  {
   "cell_type": "code",
   "execution_count": 4,
   "id": "cb23e401",
   "metadata": {
    "execution": {
     "iopub.execute_input": "2024-06-25T08:38:17.265482Z",
     "iopub.status.busy": "2024-06-25T08:38:17.264737Z",
     "iopub.status.idle": "2024-06-25T08:38:17.278004Z",
     "shell.execute_reply": "2024-06-25T08:38:17.277192Z"
    },
    "papermill": {
     "duration": 0.022101,
     "end_time": "2024-06-25T08:38:17.279932",
     "exception": false,
     "start_time": "2024-06-25T08:38:17.257831",
     "status": "completed"
    },
    "tags": []
   },
   "outputs": [
    {
     "data": {
      "text/plain": [
       "RowNumber          0\n",
       "CustomerId         0\n",
       "Surname            0\n",
       "CreditScore        0\n",
       "Geography          0\n",
       "Gender             0\n",
       "Age                0\n",
       "Tenure             0\n",
       "Balance            0\n",
       "NumOfProducts      0\n",
       "HasCrCard          0\n",
       "IsActiveMember     0\n",
       "EstimatedSalary    0\n",
       "Exited             0\n",
       "dtype: int64"
      ]
     },
     "execution_count": 4,
     "metadata": {},
     "output_type": "execute_result"
    }
   ],
   "source": [
    "# Check any null value is remain or not...\n",
    "df.isnull().sum()"
   ]
  },
  {
   "cell_type": "markdown",
   "id": "3ca1958d",
   "metadata": {
    "papermill": {
     "duration": 0.006141,
     "end_time": "2024-06-25T08:38:17.292257",
     "exception": false,
     "start_time": "2024-06-25T08:38:17.286116",
     "status": "completed"
    },
    "tags": []
   },
   "source": [
    "# Perform some Preprocessing Operations..."
   ]
  },
  {
   "cell_type": "code",
   "execution_count": 5,
   "id": "75fd379e",
   "metadata": {
    "execution": {
     "iopub.execute_input": "2024-06-25T08:38:17.305878Z",
     "iopub.status.busy": "2024-06-25T08:38:17.305577Z",
     "iopub.status.idle": "2024-06-25T08:38:17.321871Z",
     "shell.execute_reply": "2024-06-25T08:38:17.321130Z"
    },
    "papermill": {
     "duration": 0.025424,
     "end_time": "2024-06-25T08:38:17.323856",
     "exception": false,
     "start_time": "2024-06-25T08:38:17.298432",
     "status": "completed"
    },
    "tags": []
   },
   "outputs": [],
   "source": [
    "#delete duplicate data...\n",
    "df.drop_duplicates(inplace=True) "
   ]
  },
  {
   "cell_type": "code",
   "execution_count": 6,
   "id": "71ee12ef",
   "metadata": {
    "execution": {
     "iopub.execute_input": "2024-06-25T08:38:17.338200Z",
     "iopub.status.busy": "2024-06-25T08:38:17.337916Z",
     "iopub.status.idle": "2024-06-25T08:38:17.351347Z",
     "shell.execute_reply": "2024-06-25T08:38:17.349581Z"
    },
    "papermill": {
     "duration": 0.022823,
     "end_time": "2024-06-25T08:38:17.353242",
     "exception": false,
     "start_time": "2024-06-25T08:38:17.330419",
     "status": "completed"
    },
    "tags": []
   },
   "outputs": [
    {
     "name": "stdout",
     "output_type": "stream",
     "text": [
      "      RowNumber  CustomerId    Surname  CreditScore Geography  Gender  Age  \\\n",
      "0             1    15634602   Hargrave          619    France  Female   42   \n",
      "1             2    15647311       Hill          608     Spain  Female   41   \n",
      "2             3    15619304       Onio          502    France  Female   42   \n",
      "3             4    15701354       Boni          699    France  Female   39   \n",
      "4             5    15737888   Mitchell          850     Spain  Female   43   \n",
      "...         ...         ...        ...          ...       ...     ...  ...   \n",
      "9995       9996    15606229   Obijiaku          771    France    Male   39   \n",
      "9996       9997    15569892  Johnstone          516    France    Male   35   \n",
      "9997       9998    15584532        Liu          709    France  Female   36   \n",
      "9998       9999    15682355  Sabbatini          772   Germany    Male   42   \n",
      "9999      10000    15628319     Walker          792    France  Female   28   \n",
      "\n",
      "      Tenure    Balance  NumOfProducts  HasCrCard  IsActiveMember  \\\n",
      "0          2       0.00              1          1               1   \n",
      "1          1   83807.86              1          0               1   \n",
      "2          8  159660.80              3          1               0   \n",
      "3          1       0.00              2          0               0   \n",
      "4          2  125510.82              1          1               1   \n",
      "...      ...        ...            ...        ...             ...   \n",
      "9995       5       0.00              2          1               0   \n",
      "9996      10   57369.61              1          1               1   \n",
      "9997       7       0.00              1          0               1   \n",
      "9998       3   75075.31              2          1               0   \n",
      "9999       4  130142.79              1          1               0   \n",
      "\n",
      "      EstimatedSalary  Exited  \n",
      "0           101348.88       1  \n",
      "1           112542.58       0  \n",
      "2           113931.57       1  \n",
      "3            93826.63       0  \n",
      "4            79084.10       0  \n",
      "...               ...     ...  \n",
      "9995         96270.64       0  \n",
      "9996        101699.77       0  \n",
      "9997         42085.58       1  \n",
      "9998         92888.52       1  \n",
      "9999         38190.78       0  \n",
      "\n",
      "[10000 rows x 14 columns]\n"
     ]
    }
   ],
   "source": [
    "#print whole dataset...\n",
    "print(df)"
   ]
  },
  {
   "cell_type": "markdown",
   "id": "a14cf9a9",
   "metadata": {
    "papermill": {
     "duration": 0.006663,
     "end_time": "2024-06-25T08:38:17.366830",
     "exception": false,
     "start_time": "2024-06-25T08:38:17.360167",
     "status": "completed"
    },
    "tags": []
   },
   "source": [
    "# Convert categorical columns to numerical format using one-hot encoding"
   ]
  },
  {
   "cell_type": "code",
   "execution_count": 7,
   "id": "c48f645e",
   "metadata": {
    "execution": {
     "iopub.execute_input": "2024-06-25T08:38:17.381606Z",
     "iopub.status.busy": "2024-06-25T08:38:17.381013Z",
     "iopub.status.idle": "2024-06-25T08:38:17.427747Z",
     "shell.execute_reply": "2024-06-25T08:38:17.426675Z"
    },
    "papermill": {
     "duration": 0.056453,
     "end_time": "2024-06-25T08:38:17.430198",
     "exception": false,
     "start_time": "2024-06-25T08:38:17.373745",
     "status": "completed"
    },
    "tags": []
   },
   "outputs": [],
   "source": [
    "df = pd.get_dummies(df, drop_first=True)"
   ]
  },
  {
   "cell_type": "markdown",
   "id": "201f7f07",
   "metadata": {
    "papermill": {
     "duration": 0.008533,
     "end_time": "2024-06-25T08:38:17.448832",
     "exception": false,
     "start_time": "2024-06-25T08:38:17.440299",
     "status": "completed"
    },
    "tags": []
   },
   "source": [
    "# Separate the data into features and class or label"
   ]
  },
  {
   "cell_type": "code",
   "execution_count": 8,
   "id": "98a05428",
   "metadata": {
    "execution": {
     "iopub.execute_input": "2024-06-25T08:38:17.463195Z",
     "iopub.status.busy": "2024-06-25T08:38:17.462437Z",
     "iopub.status.idle": "2024-06-25T08:38:17.479628Z",
     "shell.execute_reply": "2024-06-25T08:38:17.478882Z"
    },
    "papermill": {
     "duration": 0.026523,
     "end_time": "2024-06-25T08:38:17.481669",
     "exception": false,
     "start_time": "2024-06-25T08:38:17.455146",
     "status": "completed"
    },
    "tags": []
   },
   "outputs": [],
   "source": [
    "X = df.drop(columns=['Exited'])  # The feature column is except 'Exited'\n",
    "y = df['Exited']  # The label column is named 'Exited'"
   ]
  },
  {
   "cell_type": "markdown",
   "id": "54f90b68",
   "metadata": {
    "papermill": {
     "duration": 0.006162,
     "end_time": "2024-06-25T08:38:17.494410",
     "exception": false,
     "start_time": "2024-06-25T08:38:17.488248",
     "status": "completed"
    },
    "tags": []
   },
   "source": [
    "# Split the data into training and testing sets"
   ]
  },
  {
   "cell_type": "code",
   "execution_count": 9,
   "id": "7254bf8d",
   "metadata": {
    "execution": {
     "iopub.execute_input": "2024-06-25T08:38:17.508869Z",
     "iopub.status.busy": "2024-06-25T08:38:17.508255Z",
     "iopub.status.idle": "2024-06-25T08:38:18.707182Z",
     "shell.execute_reply": "2024-06-25T08:38:18.706169Z"
    },
    "papermill": {
     "duration": 1.208902,
     "end_time": "2024-06-25T08:38:18.709614",
     "exception": false,
     "start_time": "2024-06-25T08:38:17.500712",
     "status": "completed"
    },
    "tags": []
   },
   "outputs": [],
   "source": [
    "from sklearn.model_selection import train_test_split\n",
    "from sklearn.model_selection import train_test_split\n",
    "X_train, X_test, y_train, y_test = train_test_split(X, y, test_size=0.2, random_state=42)"
   ]
  },
  {
   "cell_type": "markdown",
   "id": "1775afb2",
   "metadata": {
    "papermill": {
     "duration": 0.006172,
     "end_time": "2024-06-25T08:38:18.722824",
     "exception": false,
     "start_time": "2024-06-25T08:38:18.716652",
     "status": "completed"
    },
    "tags": []
   },
   "source": [
    "# Standardize the features"
   ]
  },
  {
   "cell_type": "code",
   "execution_count": 10,
   "id": "8aac0e40",
   "metadata": {
    "execution": {
     "iopub.execute_input": "2024-06-25T08:38:18.736733Z",
     "iopub.status.busy": "2024-06-25T08:38:18.736413Z",
     "iopub.status.idle": "2024-06-25T08:38:20.310622Z",
     "shell.execute_reply": "2024-06-25T08:38:20.309836Z"
    },
    "papermill": {
     "duration": 1.583807,
     "end_time": "2024-06-25T08:38:20.312977",
     "exception": false,
     "start_time": "2024-06-25T08:38:18.729170",
     "status": "completed"
    },
    "tags": []
   },
   "outputs": [],
   "source": [
    "from sklearn.preprocessing import StandardScaler\n",
    "scaler = StandardScaler()\n",
    "X_train_scaled = scaler.fit_transform(X_train)\n",
    "X_test_scaled = scaler.transform(X_test)"
   ]
  },
  {
   "cell_type": "markdown",
   "id": "38db8c73",
   "metadata": {
    "papermill": {
     "duration": 0.008081,
     "end_time": "2024-06-25T08:38:20.329517",
     "exception": false,
     "start_time": "2024-06-25T08:38:20.321436",
     "status": "completed"
    },
    "tags": []
   },
   "source": [
    "# Training and Testing the LogisticRegression"
   ]
  },
  {
   "cell_type": "code",
   "execution_count": 11,
   "id": "5a609a17",
   "metadata": {
    "execution": {
     "iopub.execute_input": "2024-06-25T08:38:20.347374Z",
     "iopub.status.busy": "2024-06-25T08:38:20.346703Z",
     "iopub.status.idle": "2024-06-25T08:38:21.441358Z",
     "shell.execute_reply": "2024-06-25T08:38:21.440105Z"
    },
    "papermill": {
     "duration": 1.108016,
     "end_time": "2024-06-25T08:38:21.444956",
     "exception": false,
     "start_time": "2024-06-25T08:38:20.336940",
     "status": "completed"
    },
    "tags": []
   },
   "outputs": [
    {
     "name": "stdout",
     "output_type": "stream",
     "text": [
      "Logistic Regression Accuracy: 0.8035\n",
      "Logistic Regression Classification Report:\n",
      "               precision    recall  f1-score   support\n",
      "\n",
      "           0       0.80      1.00      0.89      1607\n",
      "           1       0.00      0.00      0.00       393\n",
      "\n",
      "    accuracy                           0.80      2000\n",
      "   macro avg       0.40      0.50      0.45      2000\n",
      "weighted avg       0.65      0.80      0.72      2000\n",
      "\n",
      "Logistic Regression Confusion Matrix:\n",
      " [[1607    0]\n",
      " [ 393    0]]\n"
     ]
    },
    {
     "name": "stderr",
     "output_type": "stream",
     "text": [
      "/opt/conda/lib/python3.10/site-packages/sklearn/metrics/_classification.py:1344: UndefinedMetricWarning: Precision and F-score are ill-defined and being set to 0.0 in labels with no predicted samples. Use `zero_division` parameter to control this behavior.\n",
      "  _warn_prf(average, modifier, msg_start, len(result))\n",
      "/opt/conda/lib/python3.10/site-packages/sklearn/metrics/_classification.py:1344: UndefinedMetricWarning: Precision and F-score are ill-defined and being set to 0.0 in labels with no predicted samples. Use `zero_division` parameter to control this behavior.\n",
      "  _warn_prf(average, modifier, msg_start, len(result))\n",
      "/opt/conda/lib/python3.10/site-packages/sklearn/metrics/_classification.py:1344: UndefinedMetricWarning: Precision and F-score are ill-defined and being set to 0.0 in labels with no predicted samples. Use `zero_division` parameter to control this behavior.\n",
      "  _warn_prf(average, modifier, msg_start, len(result))\n"
     ]
    }
   ],
   "source": [
    "# Initialize the classifiers\n",
    "from sklearn.linear_model import LogisticRegression\n",
    "logistic_regression = LogisticRegression()\n",
    "\n",
    "# Train the classifiers\n",
    "logistic_regression.fit(X_train, y_train)\n",
    "\n",
    "# Make predictions\n",
    "from sklearn.metrics import accuracy_score, classification_report, confusion_matrix\n",
    "y_pred_lr = logistic_regression.predict(X_test)\n",
    "\n",
    "# Evaluate the models\n",
    "print(\"Logistic Regression Accuracy:\", accuracy_score(y_test, y_pred_lr))\n",
    "print(\"Logistic Regression Classification Report:\\n\", classification_report(y_test, y_pred_lr))\n",
    "print(\"Logistic Regression Confusion Matrix:\\n\", confusion_matrix(y_test, y_pred_lr))"
   ]
  },
  {
   "cell_type": "markdown",
   "id": "4b94fca6",
   "metadata": {
    "papermill": {
     "duration": 0.013453,
     "end_time": "2024-06-25T08:38:21.473328",
     "exception": false,
     "start_time": "2024-06-25T08:38:21.459875",
     "status": "completed"
    },
    "tags": []
   },
   "source": [
    "# Training and Testing the Decision Tree Classifier"
   ]
  },
  {
   "cell_type": "code",
   "execution_count": 12,
   "id": "29106414",
   "metadata": {
    "execution": {
     "iopub.execute_input": "2024-06-25T08:38:21.503025Z",
     "iopub.status.busy": "2024-06-25T08:38:21.502537Z",
     "iopub.status.idle": "2024-06-25T08:38:22.755757Z",
     "shell.execute_reply": "2024-06-25T08:38:22.754685Z"
    },
    "papermill": {
     "duration": 1.270656,
     "end_time": "2024-06-25T08:38:22.757946",
     "exception": false,
     "start_time": "2024-06-25T08:38:21.487290",
     "status": "completed"
    },
    "tags": []
   },
   "outputs": [
    {
     "name": "stdout",
     "output_type": "stream",
     "text": [
      "Decision Tree Accuracy: 0.821\n",
      "Decision Tree Classification Report:\n",
      "               precision    recall  f1-score   support\n",
      "\n",
      "           0       0.89      0.89      0.89      1607\n",
      "           1       0.55      0.53      0.54       393\n",
      "\n",
      "    accuracy                           0.82      2000\n",
      "   macro avg       0.72      0.71      0.71      2000\n",
      "weighted avg       0.82      0.82      0.82      2000\n",
      "\n",
      "Decision Tree Confusion Matrix:\n",
      " [[1434  173]\n",
      " [ 185  208]]\n"
     ]
    }
   ],
   "source": [
    "# Initialize the classifiers\n",
    "from sklearn.tree import DecisionTreeClassifier\n",
    "decision_tree = DecisionTreeClassifier()\n",
    "\n",
    "# Train the classifiers\n",
    "decision_tree.fit(X_train_scaled, y_train)\n",
    "\n",
    "# Make predictions\n",
    "from sklearn.metrics import accuracy_score, classification_report, confusion_matrix\n",
    "y_pred_dt = decision_tree.predict(X_test_scaled)\n",
    "\n",
    "print(\"Decision Tree Accuracy:\", accuracy_score(y_test, y_pred_dt))\n",
    "print(\"Decision Tree Classification Report:\\n\", classification_report(y_test, y_pred_dt))\n",
    "print(\"Decision Tree Confusion Matrix:\\n\", confusion_matrix(y_test, y_pred_dt))"
   ]
  },
  {
   "cell_type": "markdown",
   "id": "8816af4c",
   "metadata": {
    "papermill": {
     "duration": 0.00708,
     "end_time": "2024-06-25T08:38:22.771947",
     "exception": false,
     "start_time": "2024-06-25T08:38:22.764867",
     "status": "completed"
    },
    "tags": []
   },
   "source": [
    "# Training and Testing the Random Forest Classifier"
   ]
  },
  {
   "cell_type": "code",
   "execution_count": 13,
   "id": "9dc6aaa3",
   "metadata": {
    "execution": {
     "iopub.execute_input": "2024-06-25T08:38:22.786412Z",
     "iopub.status.busy": "2024-06-25T08:38:22.786121Z",
     "iopub.status.idle": "2024-06-25T08:38:32.465574Z",
     "shell.execute_reply": "2024-06-25T08:38:32.464521Z"
    },
    "papermill": {
     "duration": 9.689047,
     "end_time": "2024-06-25T08:38:32.467687",
     "exception": false,
     "start_time": "2024-06-25T08:38:22.778640",
     "status": "completed"
    },
    "tags": []
   },
   "outputs": [
    {
     "name": "stdout",
     "output_type": "stream",
     "text": [
      "Random Forest Accuracy: 0.8575\n",
      "Random Forest Classification Report:\n",
      "               precision    recall  f1-score   support\n",
      "\n",
      "           0       0.86      0.98      0.92      1607\n",
      "           1       0.83      0.35      0.49       393\n",
      "\n",
      "    accuracy                           0.86      2000\n",
      "   macro avg       0.84      0.67      0.70      2000\n",
      "weighted avg       0.85      0.86      0.83      2000\n",
      "\n",
      "Random Forest Confusion Matrix:\n",
      " [[1578   29]\n",
      " [ 256  137]]\n"
     ]
    }
   ],
   "source": [
    "# Initialize the classifiers\n",
    "from sklearn.ensemble import RandomForestClassifier\n",
    "random_forest = RandomForestClassifier()\n",
    "\n",
    "# Train the classifiers\n",
    "random_forest.fit(X_train_scaled, y_train)\n",
    "\n",
    "# Make predictions\n",
    "from sklearn.metrics import accuracy_score, classification_report, confusion_matrix\n",
    "y_pred_rf = random_forest.predict(X_test_scaled)\n",
    "\n",
    "print(\"Random Forest Accuracy:\", accuracy_score(y_test, y_pred_rf))\n",
    "print(\"Random Forest Classification Report:\\n\", classification_report(y_test, y_pred_rf))\n",
    "print(\"Random Forest Confusion Matrix:\\n\", confusion_matrix(y_test, y_pred_rf))"
   ]
  },
  {
   "cell_type": "markdown",
   "id": "434f3cf3",
   "metadata": {
    "papermill": {
     "duration": 0.006488,
     "end_time": "2024-06-25T08:38:32.481483",
     "exception": false,
     "start_time": "2024-06-25T08:38:32.474995",
     "status": "completed"
    },
    "tags": []
   },
   "source": [
    "# Training and Testing the Gradient Boosting Classifier"
   ]
  },
  {
   "cell_type": "code",
   "execution_count": 14,
   "id": "e8420d23",
   "metadata": {
    "execution": {
     "iopub.execute_input": "2024-06-25T08:38:32.496043Z",
     "iopub.status.busy": "2024-06-25T08:38:32.495735Z",
     "iopub.status.idle": "2024-06-25T08:38:53.021872Z",
     "shell.execute_reply": "2024-06-25T08:38:53.020888Z"
    },
    "papermill": {
     "duration": 20.536048,
     "end_time": "2024-06-25T08:38:53.024161",
     "exception": false,
     "start_time": "2024-06-25T08:38:32.488113",
     "status": "completed"
    },
    "tags": []
   },
   "outputs": [
    {
     "name": "stdout",
     "output_type": "stream",
     "text": [
      "Random Forest Accuracy: 0.8595\n",
      "Random Forest Classification Report:\n",
      "               precision    recall  f1-score   support\n",
      "\n",
      "           0       0.88      0.96      0.92      1607\n",
      "           1       0.73      0.45      0.56       393\n",
      "\n",
      "    accuracy                           0.86      2000\n",
      "   macro avg       0.81      0.70      0.74      2000\n",
      "weighted avg       0.85      0.86      0.85      2000\n",
      "\n",
      "Random Forest Confusion Matrix:\n",
      " [[1543   64]\n",
      " [ 217  176]]\n"
     ]
    }
   ],
   "source": [
    "from sklearn.ensemble import GradientBoostingClassifier\n",
    "gradient_bosting = GradientBoostingClassifier()\n",
    "\n",
    "# Train the classifiers\n",
    "gradient_bosting.fit(X_train_scaled, y_train)\n",
    "\n",
    "# Make predictions\n",
    "from sklearn.metrics import accuracy_score, classification_report, confusion_matrix\n",
    "y_pred_rf = gradient_bosting.predict(X_test_scaled)\n",
    "\n",
    "print(\"Random Forest Accuracy:\", accuracy_score(y_test, y_pred_rf))\n",
    "print(\"Random Forest Classification Report:\\n\", classification_report(y_test, y_pred_rf))\n",
    "print(\"Random Forest Confusion Matrix:\\n\", confusion_matrix(y_test, y_pred_rf))"
   ]
  }
 ],
 "metadata": {
  "kaggle": {
   "accelerator": "nvidiaTeslaT4",
   "dataSources": [
    {
     "datasetId": 2008274,
     "sourceId": 3322096,
     "sourceType": "datasetVersion"
    }
   ],
   "dockerImageVersionId": 30733,
   "isGpuEnabled": true,
   "isInternetEnabled": true,
   "language": "python",
   "sourceType": "notebook"
  },
  "kernelspec": {
   "display_name": "Python 3",
   "language": "python",
   "name": "python3"
  },
  "language_info": {
   "codemirror_mode": {
    "name": "ipython",
    "version": 3
   },
   "file_extension": ".py",
   "mimetype": "text/x-python",
   "name": "python",
   "nbconvert_exporter": "python",
   "pygments_lexer": "ipython3",
   "version": "3.10.13"
  },
  "papermill": {
   "default_parameters": {},
   "duration": 39.970791,
   "end_time": "2024-06-25T08:38:53.449490",
   "environment_variables": {},
   "exception": null,
   "input_path": "__notebook__.ipynb",
   "output_path": "__notebook__.ipynb",
   "parameters": {},
   "start_time": "2024-06-25T08:38:13.478699",
   "version": "2.5.0"
  }
 },
 "nbformat": 4,
 "nbformat_minor": 5
}
