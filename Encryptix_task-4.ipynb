{
 "cells": [
  {
   "cell_type": "code",
   "execution_count": 1,
   "id": "0a4e0763",
   "metadata": {
    "execution": {
     "iopub.execute_input": "2024-06-24T08:07:54.092982Z",
     "iopub.status.busy": "2024-06-24T08:07:54.092674Z",
     "iopub.status.idle": "2024-06-24T08:07:55.481271Z",
     "shell.execute_reply": "2024-06-24T08:07:55.480176Z"
    },
    "papermill": {
     "duration": 1.398018,
     "end_time": "2024-06-24T08:07:55.483432",
     "exception": false,
     "start_time": "2024-06-24T08:07:54.085414",
     "status": "completed"
    },
    "tags": []
   },
   "outputs": [
    {
     "name": "stdout",
     "output_type": "stream",
     "text": [
      "     v1                                                 v2 Unnamed: 2  \\\n",
      "0   ham  Go until jurong point, crazy.. Available only ...        NaN   \n",
      "1   ham                      Ok lar... Joking wif u oni...        NaN   \n",
      "2  spam  Free entry in 2 a wkly comp to win FA Cup fina...        NaN   \n",
      "3   ham  U dun say so early hor... U c already then say...        NaN   \n",
      "4   ham  Nah I don't think he goes to usf, he lives aro...        NaN   \n",
      "\n",
      "  Unnamed: 3 Unnamed: 4  \n",
      "0        NaN        NaN  \n",
      "1        NaN        NaN  \n",
      "2        NaN        NaN  \n",
      "3        NaN        NaN  \n",
      "4        NaN        NaN  \n"
     ]
    }
   ],
   "source": [
    "import pandas as pd\n",
    "\n",
    "# Path to the CSV file\n",
    "csv_path = '/kaggle/input/sms-spam-collection-dataset/spam.csv'\n",
    "\n",
    "# Read the CSV file\n",
    "df = pd.read_csv(csv_path, encoding='latin-1')\n",
    "\n",
    "# Display the first few rows\n",
    "print(df.head())\n"
   ]
  },
  {
   "cell_type": "markdown",
   "id": "6a6ebab2",
   "metadata": {
    "papermill": {
     "duration": 0.005722,
     "end_time": "2024-06-24T08:07:55.495285",
     "exception": false,
     "start_time": "2024-06-24T08:07:55.489563",
     "status": "completed"
    },
    "tags": []
   },
   "source": [
    "# Perform some preprocessing operations.."
   ]
  },
  {
   "cell_type": "code",
   "execution_count": 2,
   "id": "0d17c317",
   "metadata": {
    "execution": {
     "iopub.execute_input": "2024-06-24T08:07:55.508080Z",
     "iopub.status.busy": "2024-06-24T08:07:55.507780Z",
     "iopub.status.idle": "2024-06-24T08:07:55.519700Z",
     "shell.execute_reply": "2024-06-24T08:07:55.518822Z"
    },
    "papermill": {
     "duration": 0.020541,
     "end_time": "2024-06-24T08:07:55.521588",
     "exception": false,
     "start_time": "2024-06-24T08:07:55.501047",
     "status": "completed"
    },
    "tags": []
   },
   "outputs": [],
   "source": [
    "#delete unnecesary columns...\n",
    "df.drop(df.columns[[2, 3,4]],axis=1,inplace=True)"
   ]
  },
  {
   "cell_type": "code",
   "execution_count": 3,
   "id": "554581f1",
   "metadata": {
    "execution": {
     "iopub.execute_input": "2024-06-24T08:07:55.534415Z",
     "iopub.status.busy": "2024-06-24T08:07:55.534142Z",
     "iopub.status.idle": "2024-06-24T08:07:55.540189Z",
     "shell.execute_reply": "2024-06-24T08:07:55.539044Z"
    },
    "papermill": {
     "duration": 0.014493,
     "end_time": "2024-06-24T08:07:55.542126",
     "exception": false,
     "start_time": "2024-06-24T08:07:55.527633",
     "status": "completed"
    },
    "tags": []
   },
   "outputs": [
    {
     "name": "stdout",
     "output_type": "stream",
     "text": [
      "     v1                                                 v2\n",
      "0   ham  Go until jurong point, crazy.. Available only ...\n",
      "1   ham                      Ok lar... Joking wif u oni...\n",
      "2  spam  Free entry in 2 a wkly comp to win FA Cup fina...\n",
      "3   ham  U dun say so early hor... U c already then say...\n",
      "4   ham  Nah I don't think he goes to usf, he lives aro...\n"
     ]
    }
   ],
   "source": [
    "# Display the first few rows after deleting columns\n",
    "print(df.head())"
   ]
  },
  {
   "cell_type": "code",
   "execution_count": 4,
   "id": "dcd56bf5",
   "metadata": {
    "execution": {
     "iopub.execute_input": "2024-06-24T08:07:55.554937Z",
     "iopub.status.busy": "2024-06-24T08:07:55.554650Z",
     "iopub.status.idle": "2024-06-24T08:07:55.563000Z",
     "shell.execute_reply": "2024-06-24T08:07:55.562132Z"
    },
    "papermill": {
     "duration": 0.017404,
     "end_time": "2024-06-24T08:07:55.565367",
     "exception": false,
     "start_time": "2024-06-24T08:07:55.547963",
     "status": "completed"
    },
    "tags": []
   },
   "outputs": [
    {
     "name": "stdout",
     "output_type": "stream",
     "text": [
      "        v1                                                 v2\n",
      "0      ham  Go until jurong point, crazy.. Available only ...\n",
      "1      ham                      Ok lar... Joking wif u oni...\n",
      "2     spam  Free entry in 2 a wkly comp to win FA Cup fina...\n",
      "3      ham  U dun say so early hor... U c already then say...\n",
      "4      ham  Nah I don't think he goes to usf, he lives aro...\n",
      "...    ...                                                ...\n",
      "5567  spam  This is the 2nd time we have tried 2 contact u...\n",
      "5568   ham              Will Ì_ b going to esplanade fr home?\n",
      "5569   ham  Pity, * was in mood for that. So...any other s...\n",
      "5570   ham  The guy did some bitching but I acted like i'd...\n",
      "5571   ham                         Rofl. Its true to its name\n",
      "\n",
      "[5572 rows x 2 columns]\n"
     ]
    }
   ],
   "source": [
    "#print whole dataset...\n",
    "print(df)"
   ]
  },
  {
   "cell_type": "code",
   "execution_count": 5,
   "id": "bd3fb0ab",
   "metadata": {
    "execution": {
     "iopub.execute_input": "2024-06-24T08:07:55.579174Z",
     "iopub.status.busy": "2024-06-24T08:07:55.578572Z",
     "iopub.status.idle": "2024-06-24T08:07:55.598225Z",
     "shell.execute_reply": "2024-06-24T08:07:55.597444Z"
    },
    "papermill": {
     "duration": 0.028399,
     "end_time": "2024-06-24T08:07:55.599988",
     "exception": false,
     "start_time": "2024-06-24T08:07:55.571589",
     "status": "completed"
    },
    "tags": []
   },
   "outputs": [
    {
     "data": {
      "text/plain": [
       "v1\n",
       "ham     4825\n",
       "spam     747\n",
       "Name: count, dtype: int64"
      ]
     },
     "execution_count": 5,
     "metadata": {},
     "output_type": "execute_result"
    }
   ],
   "source": [
    "#Count the number of spam and ham msg...\n",
    "df['v1'].value_counts()\n"
   ]
  },
  {
   "cell_type": "code",
   "execution_count": 6,
   "id": "7a3c9b58",
   "metadata": {
    "execution": {
     "iopub.execute_input": "2024-06-24T08:07:55.613222Z",
     "iopub.status.busy": "2024-06-24T08:07:55.612967Z",
     "iopub.status.idle": "2024-06-24T08:07:55.621671Z",
     "shell.execute_reply": "2024-06-24T08:07:55.620882Z"
    },
    "papermill": {
     "duration": 0.017325,
     "end_time": "2024-06-24T08:07:55.623480",
     "exception": false,
     "start_time": "2024-06-24T08:07:55.606155",
     "status": "completed"
    },
    "tags": []
   },
   "outputs": [
    {
     "data": {
      "text/plain": [
       "v1    0\n",
       "v2    0\n",
       "dtype: int64"
      ]
     },
     "execution_count": 6,
     "metadata": {},
     "output_type": "execute_result"
    }
   ],
   "source": [
    "df.isnull().sum()"
   ]
  },
  {
   "cell_type": "code",
   "execution_count": 7,
   "id": "1a8516a4",
   "metadata": {
    "execution": {
     "iopub.execute_input": "2024-06-24T08:07:55.636920Z",
     "iopub.status.busy": "2024-06-24T08:07:55.636650Z",
     "iopub.status.idle": "2024-06-24T08:07:55.645388Z",
     "shell.execute_reply": "2024-06-24T08:07:55.644711Z"
    },
    "papermill": {
     "duration": 0.017613,
     "end_time": "2024-06-24T08:07:55.647251",
     "exception": false,
     "start_time": "2024-06-24T08:07:55.629638",
     "status": "completed"
    },
    "tags": []
   },
   "outputs": [],
   "source": [
    "#delete duplicate data...\n",
    "df.drop_duplicates(inplace=True) "
   ]
  },
  {
   "cell_type": "code",
   "execution_count": 8,
   "id": "c827c930",
   "metadata": {
    "execution": {
     "iopub.execute_input": "2024-06-24T08:07:55.660667Z",
     "iopub.status.busy": "2024-06-24T08:07:55.660432Z",
     "iopub.status.idle": "2024-06-24T08:07:55.666214Z",
     "shell.execute_reply": "2024-06-24T08:07:55.665334Z"
    },
    "papermill": {
     "duration": 0.014673,
     "end_time": "2024-06-24T08:07:55.668286",
     "exception": false,
     "start_time": "2024-06-24T08:07:55.653613",
     "status": "completed"
    },
    "tags": []
   },
   "outputs": [
    {
     "name": "stdout",
     "output_type": "stream",
     "text": [
      "        v1                                                 v2\n",
      "0      ham  Go until jurong point, crazy.. Available only ...\n",
      "1      ham                      Ok lar... Joking wif u oni...\n",
      "2     spam  Free entry in 2 a wkly comp to win FA Cup fina...\n",
      "3      ham  U dun say so early hor... U c already then say...\n",
      "4      ham  Nah I don't think he goes to usf, he lives aro...\n",
      "...    ...                                                ...\n",
      "5567  spam  This is the 2nd time we have tried 2 contact u...\n",
      "5568   ham              Will Ì_ b going to esplanade fr home?\n",
      "5569   ham  Pity, * was in mood for that. So...any other s...\n",
      "5570   ham  The guy did some bitching but I acted like i'd...\n",
      "5571   ham                         Rofl. Its true to its name\n",
      "\n",
      "[5169 rows x 2 columns]\n"
     ]
    }
   ],
   "source": [
    "#print whole dataset after deleting duplicate data...\n",
    "print(df)"
   ]
  },
  {
   "cell_type": "code",
   "execution_count": 9,
   "id": "c6e63c7f",
   "metadata": {
    "execution": {
     "iopub.execute_input": "2024-06-24T08:07:55.683087Z",
     "iopub.status.busy": "2024-06-24T08:07:55.682817Z",
     "iopub.status.idle": "2024-06-24T08:07:55.689748Z",
     "shell.execute_reply": "2024-06-24T08:07:55.689003Z"
    },
    "papermill": {
     "duration": 0.016012,
     "end_time": "2024-06-24T08:07:55.691614",
     "exception": false,
     "start_time": "2024-06-24T08:07:55.675602",
     "status": "completed"
    },
    "tags": []
   },
   "outputs": [
    {
     "data": {
      "text/plain": [
       "v1\n",
       "ham     4516\n",
       "spam     653\n",
       "Name: count, dtype: int64"
      ]
     },
     "execution_count": 9,
     "metadata": {},
     "output_type": "execute_result"
    }
   ],
   "source": [
    "#Count the number of spam and ham msg after deleting duplicate data...\n",
    "df['v1'].value_counts()"
   ]
  },
  {
   "cell_type": "code",
   "execution_count": 10,
   "id": "40f8c3eb",
   "metadata": {
    "execution": {
     "iopub.execute_input": "2024-06-24T08:07:55.705519Z",
     "iopub.status.busy": "2024-06-24T08:07:55.705270Z",
     "iopub.status.idle": "2024-06-24T08:07:55.709257Z",
     "shell.execute_reply": "2024-06-24T08:07:55.708515Z"
    },
    "papermill": {
     "duration": 0.013025,
     "end_time": "2024-06-24T08:07:55.711090",
     "exception": false,
     "start_time": "2024-06-24T08:07:55.698065",
     "status": "completed"
    },
    "tags": []
   },
   "outputs": [],
   "source": [
    "# Separate the data into features and class or label\n",
    "X = df['v2']  # The message column is named 'v2'\n",
    "y = df['v1']  # The label column is named 'v1'"
   ]
  },
  {
   "cell_type": "code",
   "execution_count": 11,
   "id": "6307a0db",
   "metadata": {
    "execution": {
     "iopub.execute_input": "2024-06-24T08:07:55.724864Z",
     "iopub.status.busy": "2024-06-24T08:07:55.724584Z",
     "iopub.status.idle": "2024-06-24T08:07:55.729324Z",
     "shell.execute_reply": "2024-06-24T08:07:55.728528Z"
    },
    "papermill": {
     "duration": 0.013587,
     "end_time": "2024-06-24T08:07:55.731165",
     "exception": false,
     "start_time": "2024-06-24T08:07:55.717578",
     "status": "completed"
    },
    "tags": []
   },
   "outputs": [],
   "source": [
    "# Convert labels or class to binary format\n",
    "y = y.map({'ham': 0, 'spam': 1})"
   ]
  },
  {
   "cell_type": "markdown",
   "id": "9382d57d",
   "metadata": {
    "papermill": {
     "duration": 0.00626,
     "end_time": "2024-06-24T08:07:55.743923",
     "exception": false,
     "start_time": "2024-06-24T08:07:55.737663",
     "status": "completed"
    },
    "tags": []
   },
   "source": [
    "# Spliting the dataset into Train and Test data.."
   ]
  },
  {
   "cell_type": "code",
   "execution_count": 12,
   "id": "92829150",
   "metadata": {
    "execution": {
     "iopub.execute_input": "2024-06-24T08:07:55.757803Z",
     "iopub.status.busy": "2024-06-24T08:07:55.757546Z",
     "iopub.status.idle": "2024-06-24T08:07:57.820473Z",
     "shell.execute_reply": "2024-06-24T08:07:57.819343Z"
    },
    "papermill": {
     "duration": 2.072306,
     "end_time": "2024-06-24T08:07:57.822786",
     "exception": false,
     "start_time": "2024-06-24T08:07:55.750480",
     "status": "completed"
    },
    "tags": []
   },
   "outputs": [],
   "source": [
    "# Split the data into training and testing sets\n",
    "\n",
    "from sklearn.model_selection import train_test_split\n",
    "X_train, X_test, y_train, y_test = train_test_split(X, y, test_size=0.2, random_state=42)"
   ]
  },
  {
   "cell_type": "markdown",
   "id": "ba479001",
   "metadata": {
    "papermill": {
     "duration": 0.006479,
     "end_time": "2024-06-24T08:07:57.836434",
     "exception": false,
     "start_time": "2024-06-24T08:07:57.829955",
     "status": "completed"
    },
    "tags": []
   },
   "source": [
    "# Convert text data to TF-IDF features"
   ]
  },
  {
   "cell_type": "code",
   "execution_count": 13,
   "id": "be37fb90",
   "metadata": {
    "execution": {
     "iopub.execute_input": "2024-06-24T08:07:57.850749Z",
     "iopub.status.busy": "2024-06-24T08:07:57.850451Z",
     "iopub.status.idle": "2024-06-24T08:07:58.070389Z",
     "shell.execute_reply": "2024-06-24T08:07:58.069629Z"
    },
    "papermill": {
     "duration": 0.229688,
     "end_time": "2024-06-24T08:07:58.072653",
     "exception": false,
     "start_time": "2024-06-24T08:07:57.842965",
     "status": "completed"
    },
    "tags": []
   },
   "outputs": [],
   "source": [
    "from sklearn.feature_extraction.text import TfidfVectorizer\n",
    "vectorizer = TfidfVectorizer(max_features=3000)\n",
    "X_train_tfidf = vectorizer.fit_transform(X_train)\n",
    "X_test_tfidf = vectorizer.transform(X_test)"
   ]
  },
  {
   "cell_type": "markdown",
   "id": "81748219",
   "metadata": {
    "papermill": {
     "duration": 0.006576,
     "end_time": "2024-06-24T08:07:58.086124",
     "exception": false,
     "start_time": "2024-06-24T08:07:58.079548",
     "status": "completed"
    },
    "tags": []
   },
   "source": [
    "# Training and Testing the Naive Bayes classifiers"
   ]
  },
  {
   "cell_type": "code",
   "execution_count": 14,
   "id": "79161e81",
   "metadata": {
    "execution": {
     "iopub.execute_input": "2024-06-24T08:07:58.100138Z",
     "iopub.status.busy": "2024-06-24T08:07:58.099867Z",
     "iopub.status.idle": "2024-06-24T08:07:58.126027Z",
     "shell.execute_reply": "2024-06-24T08:07:58.125099Z"
    },
    "papermill": {
     "duration": 0.035461,
     "end_time": "2024-06-24T08:07:58.128019",
     "exception": false,
     "start_time": "2024-06-24T08:07:58.092558",
     "status": "completed"
    },
    "tags": []
   },
   "outputs": [
    {
     "name": "stdout",
     "output_type": "stream",
     "text": [
      "Accuracy: 0.97678916827853\n",
      "Classification Report:\n",
      "               precision    recall  f1-score   support\n",
      "\n",
      "           0       0.97      1.00      0.99       889\n",
      "           1       1.00      0.83      0.91       145\n",
      "\n",
      "    accuracy                           0.98      1034\n",
      "   macro avg       0.99      0.92      0.95      1034\n",
      "weighted avg       0.98      0.98      0.98      1034\n",
      "\n",
      "Confusion Matrix:\n",
      " [[889   0]\n",
      " [ 24 121]]\n"
     ]
    }
   ],
   "source": [
    "# Import necessary packages and library...\n",
    "from sklearn.naive_bayes import MultinomialNB\n",
    "from sklearn.metrics import accuracy_score, classification_report, confusion_matrix\n",
    "\n",
    "# Initialize the classifier\n",
    "classifier = MultinomialNB()\n",
    "\n",
    "# Train the classifier\n",
    "classifier.fit(X_train_tfidf, y_train)\n",
    "\n",
    "# Make predictions\n",
    "y_pred = classifier.predict(X_test_tfidf)\n",
    "\n",
    "# Evaluate the model\n",
    "print(\"Accuracy:\", accuracy_score(y_test, y_pred))\n",
    "print(\"Classification Report:\\n\", classification_report(y_test, y_pred))\n",
    "print(\"Confusion Matrix:\\n\", confusion_matrix(y_test, y_pred))"
   ]
  },
  {
   "cell_type": "markdown",
   "id": "d387109a",
   "metadata": {
    "papermill": {
     "duration": 0.006511,
     "end_time": "2024-06-24T08:07:58.141301",
     "exception": false,
     "start_time": "2024-06-24T08:07:58.134790",
     "status": "completed"
    },
    "tags": []
   },
   "source": [
    "# Training and Testing the LogisticRegression classifiers"
   ]
  },
  {
   "cell_type": "code",
   "execution_count": 15,
   "id": "861ccf84",
   "metadata": {
    "execution": {
     "iopub.execute_input": "2024-06-24T08:07:58.155482Z",
     "iopub.status.busy": "2024-06-24T08:07:58.155235Z",
     "iopub.status.idle": "2024-06-24T08:07:58.374803Z",
     "shell.execute_reply": "2024-06-24T08:07:58.373460Z"
    },
    "papermill": {
     "duration": 0.229844,
     "end_time": "2024-06-24T08:07:58.377656",
     "exception": false,
     "start_time": "2024-06-24T08:07:58.147812",
     "status": "completed"
    },
    "tags": []
   },
   "outputs": [
    {
     "name": "stdout",
     "output_type": "stream",
     "text": [
      "Accuracy: 0.971953578336557\n",
      "Classification Report:\n",
      "               precision    recall  f1-score   support\n",
      "\n",
      "           0       0.97      1.00      0.98       889\n",
      "           1       0.97      0.83      0.89       145\n",
      "\n",
      "    accuracy                           0.97      1034\n",
      "   macro avg       0.97      0.91      0.94      1034\n",
      "weighted avg       0.97      0.97      0.97      1034\n",
      "\n",
      "Confusion Matrix:\n",
      " [[885   4]\n",
      " [ 25 120]]\n"
     ]
    }
   ],
   "source": [
    "# Import necessary packages and library...\n",
    "from sklearn.linear_model import LogisticRegression\n",
    "from sklearn.metrics import accuracy_score, classification_report, confusion_matrix\n",
    "\n",
    "# Initialize the classifier\n",
    "classifier = LogisticRegression()\n",
    "\n",
    "# Train the classifier\n",
    "classifier.fit(X_train_tfidf, y_train)\n",
    "\n",
    "# Make predictions\n",
    "y_pred = classifier.predict(X_test_tfidf)\n",
    "\n",
    "# Evaluate the model\n",
    "print(\"Accuracy:\", accuracy_score(y_test, y_pred))\n",
    "print(\"Classification Report:\\n\", classification_report(y_test, y_pred))\n",
    "print(\"Confusion Matrix:\\n\", confusion_matrix(y_test, y_pred))"
   ]
  },
  {
   "cell_type": "markdown",
   "id": "ee6c7f00",
   "metadata": {
    "papermill": {
     "duration": 0.006787,
     "end_time": "2024-06-24T08:07:58.392789",
     "exception": false,
     "start_time": "2024-06-24T08:07:58.386002",
     "status": "completed"
    },
    "tags": []
   },
   "source": [
    "# Training and Testing the Support Vector Machines classifier"
   ]
  },
  {
   "cell_type": "code",
   "execution_count": 16,
   "id": "d37dcff0",
   "metadata": {
    "execution": {
     "iopub.execute_input": "2024-06-24T08:07:58.407045Z",
     "iopub.status.busy": "2024-06-24T08:07:58.406760Z",
     "iopub.status.idle": "2024-06-24T08:08:00.695009Z",
     "shell.execute_reply": "2024-06-24T08:08:00.694037Z"
    },
    "papermill": {
     "duration": 2.297872,
     "end_time": "2024-06-24T08:08:00.697198",
     "exception": false,
     "start_time": "2024-06-24T08:07:58.399326",
     "status": "completed"
    },
    "tags": []
   },
   "outputs": [
    {
     "name": "stdout",
     "output_type": "stream",
     "text": [
      "Accuracy: 0.9874274661508704\n",
      "Classification Report:\n",
      "               precision    recall  f1-score   support\n",
      "\n",
      "           0       0.99      1.00      0.99       889\n",
      "           1       0.98      0.93      0.95       145\n",
      "\n",
      "    accuracy                           0.99      1034\n",
      "   macro avg       0.98      0.96      0.97      1034\n",
      "weighted avg       0.99      0.99      0.99      1034\n",
      "\n",
      "Confusion Matrix:\n",
      " [[886   3]\n",
      " [ 10 135]]\n"
     ]
    }
   ],
   "source": [
    "# Import necessary packages and library...\n",
    "from sklearn.svm import SVC\n",
    "from sklearn.metrics import accuracy_score, classification_report, confusion_matrix\n",
    "\n",
    "# Initialize the classifier\n",
    "classifier = SVC(kernel='linear', probability=True)  # Using a linear kernel\n",
    "\n",
    "# Train the classifier\n",
    "classifier.fit(X_train_tfidf, y_train)\n",
    "\n",
    "# Make predictions\n",
    "y_pred = classifier.predict(X_test_tfidf)\n",
    "\n",
    "# Evaluate the model\n",
    "print(\"Accuracy:\", accuracy_score(y_test, y_pred))\n",
    "print(\"Classification Report:\\n\", classification_report(y_test, y_pred))\n",
    "print(\"Confusion Matrix:\\n\", confusion_matrix(y_test, y_pred))"
   ]
  }
 ],
 "metadata": {
  "kaggle": {
   "accelerator": "nvidiaTeslaT4",
   "dataSources": [
    {
     "datasetId": 483,
     "sourceId": 982,
     "sourceType": "datasetVersion"
    }
   ],
   "dockerImageVersionId": 30733,
   "isGpuEnabled": true,
   "isInternetEnabled": true,
   "language": "python",
   "sourceType": "notebook"
  },
  "kernelspec": {
   "display_name": "Python 3",
   "language": "python",
   "name": "python3"
  },
  "language_info": {
   "codemirror_mode": {
    "name": "ipython",
    "version": 3
   },
   "file_extension": ".py",
   "mimetype": "text/x-python",
   "name": "python",
   "nbconvert_exporter": "python",
   "pygments_lexer": "ipython3",
   "version": "3.10.13"
  },
  "papermill": {
   "default_parameters": {},
   "duration": 10.923982,
   "end_time": "2024-06-24T08:08:01.122411",
   "environment_variables": {},
   "exception": null,
   "input_path": "__notebook__.ipynb",
   "output_path": "__notebook__.ipynb",
   "parameters": {},
   "start_time": "2024-06-24T08:07:50.198429",
   "version": "2.5.0"
  }
 },
 "nbformat": 4,
 "nbformat_minor": 5
}
